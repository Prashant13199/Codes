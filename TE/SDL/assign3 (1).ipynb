{
 "cells": [
  {
   "cell_type": "code",
   "execution_count": 1,
   "metadata": {},
   "outputs": [],
   "source": [
    "import numpy as np\n",
    "import pandas as pd\n",
    "import matplotlib.pyplot as plt"
   ]
  },
  {
   "cell_type": "code",
   "execution_count": 2,
   "metadata": {},
   "outputs": [],
   "source": [
    "df  = pd.read_csv('seresult.csv',skiprows=1)"
   ]
  },
  {
   "cell_type": "code",
   "execution_count": 3,
   "metadata": {},
   "outputs": [
    {
     "data": {
      "text/html": [
       "<div>\n",
       "<style scoped>\n",
       "    .dataframe tbody tr th:only-of-type {\n",
       "        vertical-align: middle;\n",
       "    }\n",
       "\n",
       "    .dataframe tbody tr th {\n",
       "        vertical-align: top;\n",
       "    }\n",
       "\n",
       "    .dataframe thead th {\n",
       "        text-align: right;\n",
       "    }\n",
       "</style>\n",
       "<table border=\"1\" class=\"dataframe\">\n",
       "  <thead>\n",
       "    <tr style=\"text-align: right;\">\n",
       "      <th></th>\n",
       "      <th>Unnamed: 0</th>\n",
       "      <th>Unnamed: 1</th>\n",
       "      <th>OE</th>\n",
       "      <th>TH</th>\n",
       "      <th>[OE+TH]</th>\n",
       "      <th>Crd</th>\n",
       "      <th>Grd</th>\n",
       "      <th>Pts</th>\n",
       "      <th>Pts.1</th>\n",
       "      <th>OE.1</th>\n",
       "      <th>...</th>\n",
       "      <th>Pts.14</th>\n",
       "      <th>Pts.15</th>\n",
       "      <th>TW.3</th>\n",
       "      <th>Crd.8</th>\n",
       "      <th>Grd.8</th>\n",
       "      <th>Pts.16</th>\n",
       "      <th>Pts.17</th>\n",
       "      <th>TW.4</th>\n",
       "      <th>Unnamed: 61</th>\n",
       "      <th>Unnamed: 62</th>\n",
       "    </tr>\n",
       "  </thead>\n",
       "  <tbody>\n",
       "    <tr>\n",
       "      <th>0</th>\n",
       "      <td>S150234201</td>\n",
       "      <td>DONURKAR VASANT RAJU</td>\n",
       "      <td>25</td>\n",
       "      <td>16</td>\n",
       "      <td>41</td>\n",
       "      <td>4</td>\n",
       "      <td>F</td>\n",
       "      <td>0</td>\n",
       "      <td>0</td>\n",
       "      <td>28</td>\n",
       "      <td>...</td>\n",
       "      <td>8</td>\n",
       "      <td>8</td>\n",
       "      <td>21</td>\n",
       "      <td>1</td>\n",
       "      <td>O</td>\n",
       "      <td>10</td>\n",
       "      <td>10</td>\n",
       "      <td>PP</td>\n",
       "      <td>--,</td>\n",
       "      <td>15</td>\n",
       "    </tr>\n",
       "    <tr>\n",
       "      <th>1</th>\n",
       "      <td>S150234202</td>\n",
       "      <td>FAKEER SAMEERSHA MAHEBUBSHA</td>\n",
       "      <td>31</td>\n",
       "      <td>20</td>\n",
       "      <td>51</td>\n",
       "      <td>4</td>\n",
       "      <td>B</td>\n",
       "      <td>6</td>\n",
       "      <td>24</td>\n",
       "      <td>30</td>\n",
       "      <td>...</td>\n",
       "      <td>6</td>\n",
       "      <td>6</td>\n",
       "      <td>20</td>\n",
       "      <td>1</td>\n",
       "      <td>O</td>\n",
       "      <td>10</td>\n",
       "      <td>10</td>\n",
       "      <td>PP</td>\n",
       "      <td>--,</td>\n",
       "      <td>23</td>\n",
       "    </tr>\n",
       "    <tr>\n",
       "      <th>2</th>\n",
       "      <td>S150234203</td>\n",
       "      <td>AASTHA SAKSHI SWATI</td>\n",
       "      <td>35</td>\n",
       "      <td>20</td>\n",
       "      <td>55</td>\n",
       "      <td>4</td>\n",
       "      <td>B+</td>\n",
       "      <td>7</td>\n",
       "      <td>28</td>\n",
       "      <td>31</td>\n",
       "      <td>...</td>\n",
       "      <td>9</td>\n",
       "      <td>9</td>\n",
       "      <td>23</td>\n",
       "      <td>1</td>\n",
       "      <td>O</td>\n",
       "      <td>10</td>\n",
       "      <td>10</td>\n",
       "      <td>PP</td>\n",
       "      <td>7.72,</td>\n",
       "      <td>25</td>\n",
       "    </tr>\n",
       "    <tr>\n",
       "      <th>3</th>\n",
       "      <td>S150234204</td>\n",
       "      <td>ABHIJEET KUMAR RINA</td>\n",
       "      <td>33</td>\n",
       "      <td>32</td>\n",
       "      <td>65</td>\n",
       "      <td>4</td>\n",
       "      <td>A</td>\n",
       "      <td>8</td>\n",
       "      <td>32</td>\n",
       "      <td>36</td>\n",
       "      <td>...</td>\n",
       "      <td>5</td>\n",
       "      <td>5</td>\n",
       "      <td>21</td>\n",
       "      <td>1</td>\n",
       "      <td>O</td>\n",
       "      <td>10</td>\n",
       "      <td>10</td>\n",
       "      <td>PP</td>\n",
       "      <td>7.96,</td>\n",
       "      <td>25</td>\n",
       "    </tr>\n",
       "    <tr>\n",
       "      <th>4</th>\n",
       "      <td>S150234205</td>\n",
       "      <td>ADESH LANKESHWAR ADIKANE</td>\n",
       "      <td>34</td>\n",
       "      <td>32</td>\n",
       "      <td>66</td>\n",
       "      <td>4</td>\n",
       "      <td>A</td>\n",
       "      <td>8</td>\n",
       "      <td>32</td>\n",
       "      <td>37</td>\n",
       "      <td>...</td>\n",
       "      <td>8</td>\n",
       "      <td>8</td>\n",
       "      <td>17</td>\n",
       "      <td>1</td>\n",
       "      <td>A</td>\n",
       "      <td>8</td>\n",
       "      <td>8</td>\n",
       "      <td>PP</td>\n",
       "      <td>7.68,</td>\n",
       "      <td>25</td>\n",
       "    </tr>\n",
       "  </tbody>\n",
       "</table>\n",
       "<p>5 rows × 63 columns</p>\n",
       "</div>"
      ],
      "text/plain": [
       "   Unnamed: 0                   Unnamed: 1  OE  TH [OE+TH]  Crd Grd  Pts  \\\n",
       "0  S150234201         DONURKAR VASANT RAJU  25  16      41    4   F    0   \n",
       "1  S150234202  FAKEER SAMEERSHA MAHEBUBSHA  31  20      51    4   B    6   \n",
       "2  S150234203          AASTHA SAKSHI SWATI  35  20      55    4  B+    7   \n",
       "3  S150234204          ABHIJEET KUMAR RINA  33  32      65    4   A    8   \n",
       "4  S150234205     ADESH LANKESHWAR ADIKANE  34  32      66    4   A    8   \n",
       "\n",
       "   Pts.1 OE.1  ... Pts.14 Pts.15  TW.3 Crd.8  Grd.8  Pts.16 Pts.17 TW.4  \\\n",
       "0      0   28  ...      8      8    21     1      O      10     10   PP   \n",
       "1     24   30  ...      6      6    20     1      O      10     10   PP   \n",
       "2     28   31  ...      9      9    23     1      O      10     10   PP   \n",
       "3     32   36  ...      5      5    21     1      O      10     10   PP   \n",
       "4     32   37  ...      8      8    17     1      A       8      8   PP   \n",
       "\n",
       "  Unnamed: 61  Unnamed: 62  \n",
       "0         --,           15  \n",
       "1         --,           23  \n",
       "2       7.72,           25  \n",
       "3       7.96,           25  \n",
       "4       7.68,           25  \n",
       "\n",
       "[5 rows x 63 columns]"
      ]
     },
     "execution_count": 3,
     "metadata": {},
     "output_type": "execute_result"
    }
   ],
   "source": [
    "df.head()"
   ]
  },
  {
   "cell_type": "code",
   "execution_count": 4,
   "metadata": {},
   "outputs": [],
   "source": [
    "#df.info()"
   ]
  },
  {
   "cell_type": "code",
   "execution_count": 5,
   "metadata": {},
   "outputs": [],
   "source": [
    "colnames = df.columns"
   ]
  },
  {
   "cell_type": "code",
   "execution_count": 6,
   "metadata": {},
   "outputs": [
    {
     "data": {
      "text/plain": [
       "Index(['Unnamed: 0', 'Unnamed: 1', 'OE', 'TH', '[OE+TH]', 'Crd', 'Grd', 'Pts',\n",
       "       'Pts.1', 'OE.1', 'TH.1', '[OE+TH].1', 'Crd.1', 'Grd.1', 'Pts.2',\n",
       "       'Pts.3', 'OE.2', 'TH.2', '[OE+TH].2', 'Crd.2', 'Grd.2', 'Pts.4',\n",
       "       'Pts.5', 'OE.3', 'TH.3', '[OE+TH].3', 'Crd.3', 'Grd.3', 'Pts.6',\n",
       "       'Pts.7', 'OE.4', 'TH.4', '[OE+TH].4', 'Crd.4', 'Grd.4', 'Pts.8',\n",
       "       'Pts.9', 'TW', 'PR', 'Crd.5', 'Grd.5', 'Pts.10', 'Pts.11', 'TW.1',\n",
       "       'PR.1', 'Crd.6', 'Grd.6', 'Pts.12', 'Pts.13', 'TW.2', 'PR.2', 'Crd.7',\n",
       "       'Grd.7', 'Pts.14', 'Pts.15', 'TW.3', 'Crd.8', 'Grd.8', 'Pts.16',\n",
       "       'Pts.17', 'TW.4', 'Unnamed: 61', 'Unnamed: 62'],\n",
       "      dtype='object')"
      ]
     },
     "execution_count": 6,
     "metadata": {},
     "output_type": "execute_result"
    }
   ],
   "source": [
    "colnames"
   ]
  },
  {
   "cell_type": "code",
   "execution_count": 7,
   "metadata": {},
   "outputs": [],
   "source": [
    "cnames = ['seatno', 'name', 'OE', 'TH', '[OE+TH]', 'Crd', 'Grd', 'Pts',\n",
    "       'Pts.1', 'OE.1', 'TH.1', '[OE+TH].1', 'Crd.1', 'Grd.1', 'Pts.2',\n",
    "       'Pts.3', 'OE.2', 'TH.2', '[OE+TH].2', 'Crd.2', 'Grd.2', 'Pts.4',\n",
    "       'Pts.5', 'OE.3', 'TH.3', '[OE+TH].3', 'Crd.3', 'Grd.3', 'Pts.6',\n",
    "       'Pts.7', 'OE.4', 'TH.4', '[OE+TH].4', 'Crd.4', 'Grd.4', 'Pts.8',\n",
    "       'Pts.9', 'TW', 'PR', 'Crd.5', 'Grd.5', 'Pts.10', 'Pts.11', 'TW.1',\n",
    "       'PR.1', 'Crd.6', 'Grd.6', 'Pts.12', 'Pts.13', 'TW.2', 'PR.2', 'Crd.7',\n",
    "       'Grd.7', 'Pts.14', 'Pts.15', 'TW.3', 'Crd.8', 'Grd.8', 'Pts.16',\n",
    "       'Pts.17', 'TW.4', 'sgpa', 'grdpt']"
   ]
  },
  {
   "cell_type": "code",
   "execution_count": 8,
   "metadata": {},
   "outputs": [],
   "source": [
    "df  = pd.read_csv('seresult.csv', skiprows=2, names=cnames)"
   ]
  },
  {
   "cell_type": "code",
   "execution_count": 9,
   "metadata": {},
   "outputs": [
    {
     "data": {
      "text/html": [
       "<div>\n",
       "<style scoped>\n",
       "    .dataframe tbody tr th:only-of-type {\n",
       "        vertical-align: middle;\n",
       "    }\n",
       "\n",
       "    .dataframe tbody tr th {\n",
       "        vertical-align: top;\n",
       "    }\n",
       "\n",
       "    .dataframe thead th {\n",
       "        text-align: right;\n",
       "    }\n",
       "</style>\n",
       "<table border=\"1\" class=\"dataframe\">\n",
       "  <thead>\n",
       "    <tr style=\"text-align: right;\">\n",
       "      <th></th>\n",
       "      <th>seatno</th>\n",
       "      <th>name</th>\n",
       "      <th>OE</th>\n",
       "      <th>TH</th>\n",
       "      <th>[OE+TH]</th>\n",
       "      <th>Crd</th>\n",
       "      <th>Grd</th>\n",
       "      <th>Pts</th>\n",
       "      <th>Pts.1</th>\n",
       "      <th>OE.1</th>\n",
       "      <th>...</th>\n",
       "      <th>Pts.14</th>\n",
       "      <th>Pts.15</th>\n",
       "      <th>TW.3</th>\n",
       "      <th>Crd.8</th>\n",
       "      <th>Grd.8</th>\n",
       "      <th>Pts.16</th>\n",
       "      <th>Pts.17</th>\n",
       "      <th>TW.4</th>\n",
       "      <th>sgpa</th>\n",
       "      <th>grdpt</th>\n",
       "    </tr>\n",
       "  </thead>\n",
       "  <tbody>\n",
       "    <tr>\n",
       "      <th>0</th>\n",
       "      <td>S150234201</td>\n",
       "      <td>DONURKAR VASANT RAJU</td>\n",
       "      <td>25</td>\n",
       "      <td>16</td>\n",
       "      <td>41</td>\n",
       "      <td>4</td>\n",
       "      <td>F</td>\n",
       "      <td>0</td>\n",
       "      <td>0</td>\n",
       "      <td>28</td>\n",
       "      <td>...</td>\n",
       "      <td>8</td>\n",
       "      <td>8</td>\n",
       "      <td>21</td>\n",
       "      <td>1</td>\n",
       "      <td>O</td>\n",
       "      <td>10</td>\n",
       "      <td>10</td>\n",
       "      <td>PP</td>\n",
       "      <td>--,</td>\n",
       "      <td>15</td>\n",
       "    </tr>\n",
       "    <tr>\n",
       "      <th>1</th>\n",
       "      <td>S150234202</td>\n",
       "      <td>FAKEER SAMEERSHA MAHEBUBSHA</td>\n",
       "      <td>31</td>\n",
       "      <td>20</td>\n",
       "      <td>51</td>\n",
       "      <td>4</td>\n",
       "      <td>B</td>\n",
       "      <td>6</td>\n",
       "      <td>24</td>\n",
       "      <td>30</td>\n",
       "      <td>...</td>\n",
       "      <td>6</td>\n",
       "      <td>6</td>\n",
       "      <td>20</td>\n",
       "      <td>1</td>\n",
       "      <td>O</td>\n",
       "      <td>10</td>\n",
       "      <td>10</td>\n",
       "      <td>PP</td>\n",
       "      <td>--,</td>\n",
       "      <td>23</td>\n",
       "    </tr>\n",
       "    <tr>\n",
       "      <th>2</th>\n",
       "      <td>S150234203</td>\n",
       "      <td>AASTHA SAKSHI SWATI</td>\n",
       "      <td>35</td>\n",
       "      <td>20</td>\n",
       "      <td>55</td>\n",
       "      <td>4</td>\n",
       "      <td>B+</td>\n",
       "      <td>7</td>\n",
       "      <td>28</td>\n",
       "      <td>31</td>\n",
       "      <td>...</td>\n",
       "      <td>9</td>\n",
       "      <td>9</td>\n",
       "      <td>23</td>\n",
       "      <td>1</td>\n",
       "      <td>O</td>\n",
       "      <td>10</td>\n",
       "      <td>10</td>\n",
       "      <td>PP</td>\n",
       "      <td>7.72,</td>\n",
       "      <td>25</td>\n",
       "    </tr>\n",
       "    <tr>\n",
       "      <th>3</th>\n",
       "      <td>S150234204</td>\n",
       "      <td>ABHIJEET KUMAR RINA</td>\n",
       "      <td>33</td>\n",
       "      <td>32</td>\n",
       "      <td>65</td>\n",
       "      <td>4</td>\n",
       "      <td>A</td>\n",
       "      <td>8</td>\n",
       "      <td>32</td>\n",
       "      <td>36</td>\n",
       "      <td>...</td>\n",
       "      <td>5</td>\n",
       "      <td>5</td>\n",
       "      <td>21</td>\n",
       "      <td>1</td>\n",
       "      <td>O</td>\n",
       "      <td>10</td>\n",
       "      <td>10</td>\n",
       "      <td>PP</td>\n",
       "      <td>7.96,</td>\n",
       "      <td>25</td>\n",
       "    </tr>\n",
       "    <tr>\n",
       "      <th>4</th>\n",
       "      <td>S150234205</td>\n",
       "      <td>ADESH LANKESHWAR ADIKANE</td>\n",
       "      <td>34</td>\n",
       "      <td>32</td>\n",
       "      <td>66</td>\n",
       "      <td>4</td>\n",
       "      <td>A</td>\n",
       "      <td>8</td>\n",
       "      <td>32</td>\n",
       "      <td>37</td>\n",
       "      <td>...</td>\n",
       "      <td>8</td>\n",
       "      <td>8</td>\n",
       "      <td>17</td>\n",
       "      <td>1</td>\n",
       "      <td>A</td>\n",
       "      <td>8</td>\n",
       "      <td>8</td>\n",
       "      <td>PP</td>\n",
       "      <td>7.68,</td>\n",
       "      <td>25</td>\n",
       "    </tr>\n",
       "  </tbody>\n",
       "</table>\n",
       "<p>5 rows × 63 columns</p>\n",
       "</div>"
      ],
      "text/plain": [
       "       seatno                         name  OE  TH [OE+TH]  Crd Grd  Pts  \\\n",
       "0  S150234201         DONURKAR VASANT RAJU  25  16      41    4   F    0   \n",
       "1  S150234202  FAKEER SAMEERSHA MAHEBUBSHA  31  20      51    4   B    6   \n",
       "2  S150234203          AASTHA SAKSHI SWATI  35  20      55    4  B+    7   \n",
       "3  S150234204          ABHIJEET KUMAR RINA  33  32      65    4   A    8   \n",
       "4  S150234205     ADESH LANKESHWAR ADIKANE  34  32      66    4   A    8   \n",
       "\n",
       "   Pts.1 OE.1  ... Pts.14 Pts.15  TW.3 Crd.8  Grd.8  Pts.16 Pts.17 TW.4  \\\n",
       "0      0   28  ...      8      8    21     1      O      10     10   PP   \n",
       "1     24   30  ...      6      6    20     1      O      10     10   PP   \n",
       "2     28   31  ...      9      9    23     1      O      10     10   PP   \n",
       "3     32   36  ...      5      5    21     1      O      10     10   PP   \n",
       "4     32   37  ...      8      8    17     1      A       8      8   PP   \n",
       "\n",
       "    sgpa  grdpt  \n",
       "0    --,     15  \n",
       "1    --,     23  \n",
       "2  7.72,     25  \n",
       "3  7.96,     25  \n",
       "4  7.68,     25  \n",
       "\n",
       "[5 rows x 63 columns]"
      ]
     },
     "execution_count": 9,
     "metadata": {},
     "output_type": "execute_result"
    }
   ],
   "source": [
    "df.head()"
   ]
  },
  {
   "cell_type": "code",
   "execution_count": 10,
   "metadata": {},
   "outputs": [],
   "source": [
    "#arr = np.array(df['sgpa'])\n",
    "def cleanit(data):\n",
    "    res = []\n",
    "    for val in data:\n",
    "        if val.endswith('--,'):\n",
    "            res.append(0)\n",
    "        elif val.endswith(','):\n",
    "            res.append(eval(val[:-1]))\n",
    "    return res\n",
    "arr = np.array(cleanit(df['sgpa']))"
   ]
  },
  {
   "cell_type": "code",
   "execution_count": 11,
   "metadata": {},
   "outputs": [
    {
     "data": {
      "text/plain": [
       "82"
      ]
     },
     "execution_count": 11,
     "metadata": {},
     "output_type": "execute_result"
    }
   ],
   "source": [
    "len(arr[arr>8])"
   ]
  },
  {
   "cell_type": "code",
   "execution_count": 12,
   "metadata": {},
   "outputs": [],
   "source": [
    "final = []\n",
    "final.append(arr[arr>=8].size)\n",
    "final.append(arr[(arr<8)&(arr>=7)].size)\n",
    "final.append(arr[(arr<7)&(arr>=6)].size)\n",
    "final.append(arr[(arr<6)&(arr>=5)].size)\n",
    "final.append(arr[arr==0].size)"
   ]
  },
  {
   "cell_type": "code",
   "execution_count": 13,
   "metadata": {},
   "outputs": [],
   "source": [
    "(sum(final[:-1])/sum(final))*100\n",
    "\n",
    "d = (final[0]/sum(final))*100\n",
    "f = (final[1]/sum(final))*100\n",
    "s = (final[2]/sum(final))*100\n",
    "p = (final[3]/sum(final))*100\n",
    "fa = (final[4]/sum(final))*100"
   ]
  },
  {
   "cell_type": "code",
   "execution_count": 14,
   "metadata": {},
   "outputs": [
    {
     "data": {
      "image/png": "[encoded data removed]",
      "text/plain": [
       "<Figure size 432x288 with 1 Axes>"
      ]
     },
     "metadata": {
      "needs_background": "light"
     },
     "output_type": "display_data"
    }
   ],
   "source": [
    "plt.bar(['dist','first','second','pass','fail'],final)\n",
    "plt.show()"
   ]
  },
  {
   "cell_type": "code",
   "execution_count": 33,
   "metadata": {},
   "outputs": [
    {
     "data": {
      "image/png": "[encoded data removed]",
      "text/plain": [
       "<Figure size 432x288 with 1 Axes>"
      ]
     },
     "metadata": {},
     "output_type": "display_data"
    }
   ],
   "source": [
    "plt.pie(final,labels=[d,f,s,p,fa],shadow=True)\n",
    "plt.show()"
   ]
  },
  {
   "cell_type": "code",
   "execution_count": 16,
   "metadata": {},
   "outputs": [
    {
     "data": {
      "text/plain": [
       "array(['F', 'B', 'B+', 'A', 'A', 'C', 'A', 'O', 'F', 'A', 'A', 'F', 'F',\n",
       "       'A', 'A', 'A+', 'C', 'A+', 'C', 'A+', 'A+', 'A', 'B+', 'A+', 'A+',\n",
       "       'A+', 'A', 'A+', 'A+', 'B', 'B+', 'B+', 'F', 'F', 'B', 'C', 'A',\n",
       "       'A+', 'A', 'A', 'A+', 'O', 'O', 'A+', 'B+', 'A', 'A+', 'A+', 'A+',\n",
       "       'B+', 'A', 'A', 'F', 'P', 'A+', 'B+', 'F', 'A', 'A', 'B', 'A', 'A',\n",
       "       'A', 'A', 'B', 'A+', 'A', 'C', 'P', 'A', 'O', 'B', 'B', 'C', 'A',\n",
       "       'B', 'A+', 'A', 'B', 'A', 'A', 'A+', 'A', 'A+', 'B+', 'A+', 'F',\n",
       "       'F', 'F', 'A', 'C', 'A', 'O', 'B+', 'A+', 'A+', 'A+', 'O', 'A+',\n",
       "       'A+', 'F', 'C', 'A', 'B', 'F', 'B+', 'A', 'A', 'A', 'C', 'O', 'B',\n",
       "       'A', 'F', 'A', 'C', 'A', 'A+', 'B', 'A', 'B+', 'F', 'B+', 'F', 'F',\n",
       "       'A', 'B+', 'C', 'A', 'B', 'A+', 'A', 'A', 'A', 'A+', 'C', 'O',\n",
       "       'B+', 'A', 'A', 'A', 'A', 'A+', 'O', 'B+', 'A', 'A+', 'A+', 'A+',\n",
       "       'B', 'A+', 'A', 'A', 'A', 'C', 'A+', 'A', 'F', 'A+', 'B+', 'A+',\n",
       "       'F', 'A', 'A', 'A+', 'A', 'A+', 'A+', 'A+', 'B', 'A', 'A', 'B+',\n",
       "       'B+', 'A+', 'A+', 'A', 'A', 'B+', 'A', 'A', 'A', 'A+', 'A', 'F',\n",
       "       'A', 'A', 'A', 'A+', 'F', 'A', 'B', 'B', 'A', 'A+', 'A', 'F', 'B',\n",
       "       'F', 'B+', 'A', 'A+', 'P', 'B+', 'F', 'A+', 'A+', 'A', 'B', 'B+',\n",
       "       'C', 'P', 'A+'], dtype=object)"
      ]
     },
     "execution_count": 16,
     "metadata": {},
     "output_type": "execute_result"
    }
   ],
   "source": [
    "arr1 = np.array(df['Grd'])\n",
    "arr1"
   ]
  },
  {
   "cell_type": "code",
   "execution_count": 17,
   "metadata": {},
   "outputs": [],
   "source": [
    "final1 = []\n",
    "final1.append(arr1[(arr1=='O') | (arr1=='A') | (arr1=='A+')].size)\n",
    "final1.append(arr1[(arr1=='B') | (arr1=='B+')].size)\n",
    "final1.append(arr1[(arr1=='c')].size)\n",
    "final1.append(arr1[(arr1=='P')].size)\n",
    "final1.append(arr1[(arr1=='F')].size)"
   ]
  },
  {
   "cell_type": "code",
   "execution_count": 18,
   "metadata": {},
   "outputs": [],
   "source": [
    "(sum(final1[:-1])/sum(final1))*100\n",
    "\n",
    "d = (final1[0]/sum(final1))*100\n",
    "f = (final1[1]/sum(final1))*100\n",
    "s = (final1[2]/sum(final1))*100\n",
    "p = (final1[3]/sum(final1))*100\n",
    "fa = (final1[4]/sum(final1))*100"
   ]
  },
  {
   "cell_type": "code",
   "execution_count": 19,
   "metadata": {},
   "outputs": [
    {
     "data": {
      "image/png": "[encoded data removed]",
      "text/plain": [
       "<Figure size 432x288 with 1 Axes>"
      ]
     },
     "metadata": {
      "needs_background": "light"
     },
     "output_type": "display_data"
    }
   ],
   "source": [
    "plt.bar(['dist','first','second','pass','fail'],final1)\n",
    "plt.title('Subject 1')\n",
    "plt.show()"
   ]
  },
  {
   "cell_type": "code",
   "execution_count": 20,
   "metadata": {},
   "outputs": [
    {
     "data": {
      "text/plain": [
       "array(['F', 'A', 'A', 'B+', 'A', 'F', 'F', 'A+', 'F', 'A+', 'B', 'C', 'F',\n",
       "       'B+', 'B', 'A+', 'F', 'A+', 'A', 'A+', 'A+', 'A', 'C', 'B+', 'A+',\n",
       "       'O', 'A+', 'B', 'A', 'A', 'B', 'P', 'F', 'F', 'B', 'B', 'B', 'A+',\n",
       "       'A', 'B+', 'A', 'A+', 'O', 'A+', 'A+', 'B+', 'O', 'A+', 'B+', 'B+',\n",
       "       'B', 'A+', 'F', 'B+', 'A', 'F', 'B', 'A', 'A', 'A', 'A+', 'A',\n",
       "       'A+', 'A+', 'F', 'A', 'B+', 'F', 'B+', 'A', 'A', 'F', 'B+', 'A',\n",
       "       'F', 'B+', 'A+', 'A', 'B+', 'A', 'B+', 'A+', 'B', 'A+', 'B', 'O',\n",
       "       'B+', 'B', 'F', 'A', 'B+', 'B', 'A+', 'F', 'B', 'A', 'A+', 'A+',\n",
       "       'A+', 'O', 'F', 'F', 'A', 'F', 'F', 'C', 'A', 'A', 'A+', 'F', 'A+',\n",
       "       'B+', 'A+', 'F', 'A', 'F', 'A', 'A', 'F', 'O', 'A', 'F', 'B+',\n",
       "       'A+', 'F', 'B+', 'A+', 'F', 'A', 'A', 'O', 'O', 'A+', 'A', 'A+',\n",
       "       'C', 'A', 'F', 'A', 'B+', 'F', 'A', 'B', 'A', 'B+', 'A+', 'B+',\n",
       "       'A', 'B+', 'F', 'A+', 'A', 'A', 'B+', 'A', 'A+', 'B+', 'F', 'A',\n",
       "       'B+', 'A', 'F', 'B+', 'F', 'B', 'C', 'O', 'A+', 'O', 'F', 'C',\n",
       "       'A+', 'B+', 'F', 'A', 'A+', 'B+', 'B+', 'F', 'B+', 'A+', 'B+',\n",
       "       'A+', 'B+', 'F', 'A', 'A+', 'B+', 'A', 'F', 'B', 'B+', 'P', 'B+',\n",
       "       'B', 'C', 'C', 'B+', 'F', 'B', 'A', 'O', 'B+', 'B+', 'F', 'B+',\n",
       "       'O', 'A', 'B+', 'B', 'P', 'B', 'A'], dtype=object)"
      ]
     },
     "execution_count": 20,
     "metadata": {},
     "output_type": "execute_result"
    }
   ],
   "source": [
    "arr2 = np.array(df['Grd.1'])\n",
    "arr2"
   ]
  },
  {
   "cell_type": "code",
   "execution_count": 21,
   "metadata": {},
   "outputs": [],
   "source": [
    "final2 = []\n",
    "final2.append(arr2[(arr2=='O') | (arr2=='A') | (arr2=='A+')].size)\n",
    "final2.append(arr2[(arr2=='B') | (arr2=='B+')].size)\n",
    "final2.append(arr2[(arr2=='c')].size)\n",
    "final2.append(arr2[(arr2=='P')].size)\n",
    "final2.append(arr2[(arr2=='F')].size)"
   ]
  },
  {
   "cell_type": "code",
   "execution_count": 22,
   "metadata": {},
   "outputs": [],
   "source": [
    "(sum(final2[:-1])/sum(final2))*100\n",
    "\n",
    "d = (final2[0]/sum(final2))*100\n",
    "f = (final2[1]/sum(final2))*100\n",
    "s = (final2[2]/sum(final2))*100\n",
    "p = (final2[3]/sum(final2))*100\n",
    "fa = (final2[4]/sum(final2))*100"
   ]
  },
  {
   "cell_type": "code",
   "execution_count": 23,
   "metadata": {},
   "outputs": [
    {
     "data": {
      "image/png": "[encoded data removed]",
      "text/plain": [
       "<Figure size 432x288 with 1 Axes>"
      ]
     },
     "metadata": {
      "needs_background": "light"
     },
     "output_type": "display_data"
    }
   ],
   "source": [
    "plt.bar(['dist','first','second','pass','fail'],final2)\n",
    "plt.title('Subject 2')\n",
    "plt.show()"
   ]
  },
  {
   "cell_type": "code",
   "execution_count": 24,
   "metadata": {},
   "outputs": [
    {
     "data": {
      "image/png": "[encoded data removed]",
      "text/plain": [
       "<Figure size 432x288 with 1 Axes>"
      ]
     },
     "metadata": {
      "needs_background": "light"
     },
     "output_type": "display_data"
    }
   ],
   "source": [
    "arr3 = np.array(df['Grd.3'])\n",
    "arr3\n",
    "final3 = []\n",
    "final3.append(arr3[(arr3=='O') | (arr3=='A') | (arr3=='A+')].size)\n",
    "final3.append(arr3[(arr3=='B') | (arr3=='B+')].size)\n",
    "final3.append(arr3[(arr3=='c')].size)\n",
    "final3.append(arr3[(arr3=='P')].size)\n",
    "final3.append(arr3[(arr3=='F')].size)\n",
    "\n",
    "(sum(final3[:-1])/sum(final3))*100\n",
    "\n",
    "d = (final3[0]/sum(final3))*100\n",
    "f = (final3[1]/sum(final3))*100\n",
    "s = (final3[2]/sum(final3))*100\n",
    "p = (final3[3]/sum(final3))*100\n",
    "fa = (final3[4]/sum(final3))*100\n",
    "\n",
    "plt.bar(['dist','first','second','pass','fail'],final3)\n",
    "plt.title('Subject 3')\n",
    "plt.show()"
   ]
  },
  {
   "cell_type": "code",
   "execution_count": 25,
   "metadata": {},
   "outputs": [
    {
     "data": {
      "image/png": "[encoded data removed]",
      "text/plain": [
       "<Figure size 432x288 with 1 Axes>"
      ]
     },
     "metadata": {
      "needs_background": "light"
     },
     "output_type": "display_data"
    }
   ],
   "source": [
    "arr4 = np.array(df['Grd.4'])\n",
    "arr4\n",
    "final4 = []\n",
    "final4.append(arr4[(arr4=='O') | (arr4=='A') | (arr4=='A+')].size)\n",
    "final4.append(arr4[(arr4=='B') | (arr4=='B+')].size)\n",
    "final4.append(arr4[(arr4=='c')].size)\n",
    "final4.append(arr4[(arr4=='P')].size)\n",
    "final4.append(arr4[(arr4=='F')].size)\n",
    "\n",
    "(sum(final4[:-1])/sum(final4))*100\n",
    "\n",
    "d = (final4[0]/sum(final4))*100\n",
    "f = (final4[1]/sum(final4))*100\n",
    "s = (final4[2]/sum(final4))*100\n",
    "p = (final4[3]/sum(final4))*100\n",
    "fa = (final4[4]/sum(final4))*100\n",
    "\n",
    "plt.bar(['dist','first','second','pass','fail'],final4)\n",
    "plt.title('Subject 4')\n",
    "plt.show()"
   ]
  },
  {
   "cell_type": "code",
   "execution_count": 26,
   "metadata": {},
   "outputs": [
    {
     "data": {
      "image/png": "[encoded data removed]",
      "text/plain": [
       "<Figure size 432x288 with 1 Axes>"
      ]
     },
     "metadata": {
      "needs_background": "light"
     },
     "output_type": "display_data"
    }
   ],
   "source": [
    "arr5 = np.array(df['Grd.5'])\n",
    "arr5\n",
    "final5 = []\n",
    "final5.append(arr5[(arr5=='O') | (arr5=='A') | (arr5=='A+')].size)\n",
    "final5.append(arr5[(arr5=='B') | (arr5=='B+')].size)\n",
    "final5.append(arr5[(arr5=='c')].size)\n",
    "final5.append(arr5[(arr5=='P')].size)\n",
    "final5.append(arr5[(arr5=='F')].size)\n",
    "\n",
    "(sum(final5[:-1])/sum(final5))*100\n",
    "\n",
    "d = (final5[0]/sum(final5))*100\n",
    "f = (final5[1]/sum(final5))*100\n",
    "s = (final5[2]/sum(final5))*100\n",
    "p = (final5[3]/sum(final5))*100\n",
    "fa = (final5[4]/sum(final5))*100\n",
    "\n",
    "plt.bar(['dist','first','second','pass','fail'],final5)\n",
    "plt.title('Subject 5')\n",
    "plt.show()"
   ]
  },
  {
   "cell_type": "code",
   "execution_count": 27,
   "metadata": {},
   "outputs": [
    {
     "data": {
      "image/png": "[encoded data removed]",
      "text/plain": [
       "<Figure size 432x288 with 1 Axes>"
      ]
     },
     "metadata": {
      "needs_background": "light"
     },
     "output_type": "display_data"
    }
   ],
   "source": [
    "arr6 = np.array(df['Grd.6'])\n",
    "arr6\n",
    "final6 = []\n",
    "final6.append(arr6[(arr6=='O') | (arr6=='A') | (arr6=='A+')].size)\n",
    "final6.append(arr6[(arr6=='B') | (arr6=='B+')].size)\n",
    "final6.append(arr6[(arr6=='c')].size)\n",
    "final6.append(arr6[(arr6=='P')].size)\n",
    "final6.append(arr6[(arr6=='F')].size)\n",
    "\n",
    "(sum(final6[:-1])/sum(final6))*100\n",
    "\n",
    "d = (final6[0]/sum(final6))*100\n",
    "f = (final6[1]/sum(final6))*100\n",
    "s = (final6[2]/sum(final6))*100\n",
    "p = (final6[3]/sum(final6))*100\n",
    "fa = (final6[4]/sum(final6))*100\n",
    "\n",
    "plt.bar(['dist','first','second','pass','fail'],final6)\n",
    "plt.title('Subject 6')\n",
    "plt.show()"
   ]
  },
  {
   "cell_type": "code",
   "execution_count": 28,
   "metadata": {},
   "outputs": [
    {
     "data": {
      "image/png": "[encoded data removed]",
      "text/plain": [
       "<Figure size 432x288 with 1 Axes>"
      ]
     },
     "metadata": {
      "needs_background": "light"
     },
     "output_type": "display_data"
    }
   ],
   "source": [
    "arr7 = np.array(df['Grd.7'])\n",
    "arr7\n",
    "final7 = []\n",
    "final7.append(arr7[(arr7=='O') | (arr7=='A') | (arr7=='A+')].size)\n",
    "final7.append(arr7[(arr7=='B') | (arr7=='B+')].size)\n",
    "final7.append(arr7[(arr7=='c')].size)\n",
    "final7.append(arr7[(arr7=='P')].size)\n",
    "final7.append(arr7[(arr7=='F')].size)\n",
    "\n",
    "(sum(final7[:-1])/sum(final7))*100\n",
    "\n",
    "d = (final7[0]/sum(final7))*100\n",
    "f = (final7[1]/sum(final7))*100\n",
    "s = (final7[2]/sum(final7))*100\n",
    "p = (final7[3]/sum(final7))*100\n",
    "fa = (final7[4]/sum(final7))*100\n",
    "\n",
    "plt.bar(['dist','first','second','pass','fail'],final7)\n",
    "plt.title('Subject 7')\n",
    "plt.show()"
   ]
  },
  {
   "cell_type": "code",
   "execution_count": 29,
   "metadata": {},
   "outputs": [
    {
     "data": {
      "image/png": "[encoded data removed]",
      "text/plain": [
       "<Figure size 432x288 with 1 Axes>"
      ]
     },
     "metadata": {
      "needs_background": "light"
     },
     "output_type": "display_data"
    }
   ],
   "source": [
    "arr8 = np.array(df['Grd.8'])\n",
    "arr8\n",
    "final8 = []\n",
    "final8.append(arr8[(arr8=='O') | (arr8=='A') | (arr8=='A+')].size)\n",
    "final8.append(arr8[(arr8=='B') | (arr8=='B+')].size)\n",
    "final8.append(arr8[(arr8=='c')].size)\n",
    "final8.append(arr8[(arr8=='P')].size)\n",
    "final8.append(arr8[(arr8=='F')].size)\n",
    "\n",
    "(sum(final8[:-1])/sum(final8))*100\n",
    "\n",
    "d = (final8[0]/sum(final8))*100\n",
    "f = (final8[1]/sum(final8))*100\n",
    "s = (final8[2]/sum(final8))*100\n",
    "p = (final8[3]/sum(final8))*100\n",
    "fa = (final8[4]/sum(final8))*100\n",
    "\n",
    "plt.bar(['dist','first','second','pass','fail'],final8)\n",
    "plt.title('Subject 8')\n",
    "plt.show()"
   ]
  },
  {
   "cell_type": "code",
   "execution_count": 34,
   "metadata": {},
   "outputs": [
    {
     "data": {
      "text/html": [
       "<div>\n",
       "<style scoped>\n",
       "    .dataframe tbody tr th:only-of-type {\n",
       "        vertical-align: middle;\n",
       "    }\n",
       "\n",
       "    .dataframe tbody tr th {\n",
       "        vertical-align: top;\n",
       "    }\n",
       "\n",
       "    .dataframe thead th {\n",
       "        text-align: right;\n",
       "    }\n",
       "</style>\n",
       "<table border=\"1\" class=\"dataframe\">\n",
       "  <thead>\n",
       "    <tr style=\"text-align: right;\">\n",
       "      <th></th>\n",
       "      <th>Max</th>\n",
       "      <th>Min</th>\n",
       "      <th>Average</th>\n",
       "      <th>Fail</th>\n",
       "    </tr>\n",
       "  </thead>\n",
       "  <tbody>\n",
       "    <tr>\n",
       "      <th>sub1</th>\n",
       "      <td>NaN</td>\n",
       "      <td>NaN</td>\n",
       "      <td>NaN</td>\n",
       "      <td>NaN</td>\n",
       "    </tr>\n",
       "    <tr>\n",
       "      <th>sub2</th>\n",
       "      <td>NaN</td>\n",
       "      <td>NaN</td>\n",
       "      <td>NaN</td>\n",
       "      <td>NaN</td>\n",
       "    </tr>\n",
       "    <tr>\n",
       "      <th>sub3</th>\n",
       "      <td>NaN</td>\n",
       "      <td>NaN</td>\n",
       "      <td>NaN</td>\n",
       "      <td>NaN</td>\n",
       "    </tr>\n",
       "    <tr>\n",
       "      <th>sub4</th>\n",
       "      <td>NaN</td>\n",
       "      <td>NaN</td>\n",
       "      <td>NaN</td>\n",
       "      <td>NaN</td>\n",
       "    </tr>\n",
       "    <tr>\n",
       "      <th>sub5</th>\n",
       "      <td>NaN</td>\n",
       "      <td>NaN</td>\n",
       "      <td>NaN</td>\n",
       "      <td>NaN</td>\n",
       "    </tr>\n",
       "  </tbody>\n",
       "</table>\n",
       "</div>"
      ],
      "text/plain": [
       "      Max  Min Average Fail\n",
       "sub1  NaN  NaN     NaN  NaN\n",
       "sub2  NaN  NaN     NaN  NaN\n",
       "sub3  NaN  NaN     NaN  NaN\n",
       "sub4  NaN  NaN     NaN  NaN\n",
       "sub5  NaN  NaN     NaN  NaN"
      ]
     },
     "execution_count": 34,
     "metadata": {},
     "output_type": "execute_result"
    }
   ],
   "source": [
    "df1=pd.DataFrame(index=['sub1','sub2','sub3','sub4','sub5'],columns=['Max','Min','Average','Fail'])\n",
    "df1"
   ]
  },
  {
   "cell_type": "code",
   "execution_count": 43,
   "metadata": {},
   "outputs": [
    {
     "data": {
      "text/html": [
       "<div>\n",
       "<style scoped>\n",
       "    .dataframe tbody tr th:only-of-type {\n",
       "        vertical-align: middle;\n",
       "    }\n",
       "\n",
       "    .dataframe tbody tr th {\n",
       "        vertical-align: top;\n",
       "    }\n",
       "\n",
       "    .dataframe thead th {\n",
       "        text-align: right;\n",
       "    }\n",
       "</style>\n",
       "<table border=\"1\" class=\"dataframe\">\n",
       "  <thead>\n",
       "    <tr style=\"text-align: right;\">\n",
       "      <th></th>\n",
       "      <th>Max</th>\n",
       "      <th>Min</th>\n",
       "      <th>Average</th>\n",
       "      <th>Fail</th>\n",
       "    </tr>\n",
       "  </thead>\n",
       "  <tbody>\n",
       "    <tr>\n",
       "      <th>sub1</th>\n",
       "      <td>85</td>\n",
       "      <td>0</td>\n",
       "      <td>60.943662</td>\n",
       "      <td>24</td>\n",
       "    </tr>\n",
       "    <tr>\n",
       "      <th>sub2</th>\n",
       "      <td>85</td>\n",
       "      <td>0</td>\n",
       "      <td>58.014085</td>\n",
       "      <td>40</td>\n",
       "    </tr>\n",
       "    <tr>\n",
       "      <th>sub3</th>\n",
       "      <td>86</td>\n",
       "      <td>0</td>\n",
       "      <td>59.173709</td>\n",
       "      <td>32</td>\n",
       "    </tr>\n",
       "    <tr>\n",
       "      <th>sub4</th>\n",
       "      <td>79</td>\n",
       "      <td>0</td>\n",
       "      <td>54.028169</td>\n",
       "      <td>22</td>\n",
       "    </tr>\n",
       "    <tr>\n",
       "      <th>sub5</th>\n",
       "      <td>88</td>\n",
       "      <td>0</td>\n",
       "      <td>59.727700</td>\n",
       "      <td>13</td>\n",
       "    </tr>\n",
       "  </tbody>\n",
       "</table>\n",
       "</div>"
      ],
      "text/plain": [
       "      Max  Min    Average  Fail\n",
       "sub1   85    0  60.943662    24\n",
       "sub2   85    0  58.014085    40\n",
       "sub3   86    0  59.173709    32\n",
       "sub4   79    0  54.028169    22\n",
       "sub5   88    0  59.727700    13"
      ]
     },
     "execution_count": 43,
     "metadata": {},
     "output_type": "execute_result"
    }
   ],
   "source": [
    "def cleanm(data):\n",
    "    arr1=[]\n",
    "    for val in data:\n",
    "        if val=='AB':\n",
    "            arr1.append(0)\n",
    "        else:\n",
    "            arr1.append(int(val))\n",
    "    return arr1\n",
    "\n",
    "arr1 = np.array(cleanm(df['[OE+TH]']))\n",
    "arr2 = np.array(cleanm(df['[OE+TH].1']))\n",
    "arr3 = np.array(cleanm(df['[OE+TH].2']))\n",
    "arr4 = np.array(cleanm(df['[OE+TH].3']))\n",
    "arr5 = np.array(cleanm(df['[OE+TH].4']))\n",
    "\n",
    "df1['Max']=np.array([arr1.max(),arr2.max(),arr3.max(),arr4.max(),arr5.max()])\n",
    "df1['Min']=np.array([arr1.min(),arr2.min(),arr3.min(),arr4.min(),arr5.min()])\n",
    "df1['Average']=np.array([arr1.mean(),arr2.mean(),arr3.mean(),arr4.mean(),arr5.mean()])\n",
    "df1['Fail']=np.array([final1[4],final2[4],final3[4],final4[4],final5[4]])\n",
    "df1"
   ]
  },
  {
   "cell_type": "code",
   "execution_count": 49,
   "metadata": {},
   "outputs": [
    {
     "data": {
      "text/html": [
       "<div>\n",
       "<style scoped>\n",
       "    .dataframe tbody tr th:only-of-type {\n",
       "        vertical-align: middle;\n",
       "    }\n",
       "\n",
       "    .dataframe tbody tr th {\n",
       "        vertical-align: top;\n",
       "    }\n",
       "\n",
       "    .dataframe thead th {\n",
       "        text-align: right;\n",
       "    }\n",
       "</style>\n",
       "<table border=\"1\" class=\"dataframe\">\n",
       "  <thead>\n",
       "    <tr style=\"text-align: right;\">\n",
       "      <th></th>\n",
       "      <th>seatno</th>\n",
       "      <th>name</th>\n",
       "      <th>sgpa</th>\n",
       "    </tr>\n",
       "  </thead>\n",
       "  <tbody>\n",
       "    <tr>\n",
       "      <th>7</th>\n",
       "      <td>S150234208</td>\n",
       "      <td>AGRAWAL TWINKLE ANIL</td>\n",
       "      <td>9.52,</td>\n",
       "    </tr>\n",
       "    <tr>\n",
       "      <th>166</th>\n",
       "      <td>S150234374</td>\n",
       "      <td>SHEKADE AKSHAY SUBHASH</td>\n",
       "      <td>9.24,</td>\n",
       "    </tr>\n",
       "    <tr>\n",
       "      <th>130</th>\n",
       "      <td>S150234335</td>\n",
       "      <td>PATIL KUNAL SACHIN</td>\n",
       "      <td>9.2,</td>\n",
       "    </tr>\n",
       "    <tr>\n",
       "      <th>46</th>\n",
       "      <td>S150234250</td>\n",
       "      <td>DESAI APOORVA ABHAY</td>\n",
       "      <td>9.2,</td>\n",
       "    </tr>\n",
       "    <tr>\n",
       "      <th>168</th>\n",
       "      <td>S150234376</td>\n",
       "      <td>SHENDAGE ABHIJIT SOMNATH</td>\n",
       "      <td>9.2,</td>\n",
       "    </tr>\n",
       "  </tbody>\n",
       "</table>\n",
       "</div>"
      ],
      "text/plain": [
       "         seatno                      name   sgpa\n",
       "7    S150234208      AGRAWAL TWINKLE ANIL  9.52,\n",
       "166  S150234374    SHEKADE AKSHAY SUBHASH  9.24,\n",
       "130  S150234335        PATIL KUNAL SACHIN   9.2,\n",
       "46   S150234250       DESAI APOORVA ABHAY   9.2,\n",
       "168  S150234376  SHENDAGE ABHIJIT SOMNATH   9.2,"
      ]
     },
     "execution_count": 49,
     "metadata": {},
     "output_type": "execute_result"
    }
   ],
   "source": [
    "df2=df.sort_values(by='sgpa',ascending=False)\n",
    "df3=df2.iloc[:5]\n",
    "df4=df3.loc[:,['seatno','name','sgpa']]\n",
    "df4"
   ]
  },
  {
   "cell_type": "code",
   "execution_count": 50,
   "metadata": {},
   "outputs": [
    {
     "data": {
      "text/html": [
       "<div>\n",
       "<style scoped>\n",
       "    .dataframe tbody tr th:only-of-type {\n",
       "        vertical-align: middle;\n",
       "    }\n",
       "\n",
       "    .dataframe tbody tr th {\n",
       "        vertical-align: top;\n",
       "    }\n",
       "\n",
       "    .dataframe thead th {\n",
       "        text-align: right;\n",
       "    }\n",
       "</style>\n",
       "<table border=\"1\" class=\"dataframe\">\n",
       "  <thead>\n",
       "    <tr style=\"text-align: right;\">\n",
       "      <th></th>\n",
       "      <th>Name of subject</th>\n",
       "      <th>no. of students appeared</th>\n",
       "      <th>No of students passed</th>\n",
       "      <th>Pass Percentage</th>\n",
       "    </tr>\n",
       "  </thead>\n",
       "  <tbody>\n",
       "  </tbody>\n",
       "</table>\n",
       "</div>"
      ],
      "text/plain": [
       "Empty DataFrame\n",
       "Columns: [Name of subject, no. of students appeared, No of students passed, Pass Percentage]\n",
       "Index: []"
      ]
     },
     "execution_count": 50,
     "metadata": {},
     "output_type": "execute_result"
    }
   ],
   "source": [
    "df5=pd.DataFrame(columns=['Name of subject','no. of students appeared','No of students passed','Pass Percentage'])\n",
    "df5['Name of subject']="
   ]
  },
  {
   "cell_type": "code",
   "execution_count": 63,
   "metadata": {},
   "outputs": [
    {
     "data": {
      "text/plain": [
       "Index(['seatno', 'name', 'OE', 'TH', '[OE+TH]', 'Crd', 'Grd', 'Pts', 'Pts.1',\n",
       "       'OE.1', 'TH.1', '[OE+TH].1', 'Crd.1', 'Grd.1', 'Pts.2', 'Pts.3', 'OE.2',\n",
       "       'TH.2', '[OE+TH].2', 'Crd.2', 'Grd.2', 'Pts.4', 'Pts.5', 'OE.3', 'TH.3',\n",
       "       '[OE+TH].3', 'Crd.3', 'Grd.3', 'Pts.6', 'Pts.7', 'OE.4', 'TH.4',\n",
       "       '[OE+TH].4', 'Crd.4', 'Grd.4', 'Pts.8', 'Pts.9', 'TW', 'PR', 'Crd.5',\n",
       "       'Grd.5', 'Pts.10', 'Pts.11', 'TW.1', 'PR.1', 'Crd.6', 'Grd.6', 'Pts.12',\n",
       "       'Pts.13', 'TW.2', 'PR.2', 'Crd.7', 'Grd.7', 'Pts.14', 'Pts.15', 'TW.3',\n",
       "       'Crd.8', 'Grd.8', 'Pts.16', 'Pts.17', 'TW.4', 'sgpa', 'grdpt'],\n",
       "      dtype='object')"
      ]
     },
     "execution_count": 63,
     "metadata": {},
     "output_type": "execute_result"
    }
   ],
   "source": [
    "df.columns"
   ]
  },
  {
   "cell_type": "code",
   "execution_count": 78,
   "metadata": {},
   "outputs": [
    {
     "data": {
      "text/html": [
       "<div>\n",
       "<style scoped>\n",
       "    .dataframe tbody tr th:only-of-type {\n",
       "        vertical-align: middle;\n",
       "    }\n",
       "\n",
       "    .dataframe tbody tr th {\n",
       "        vertical-align: top;\n",
       "    }\n",
       "\n",
       "    .dataframe thead th {\n",
       "        text-align: right;\n",
       "    }\n",
       "</style>\n",
       "<table border=\"1\" class=\"dataframe\">\n",
       "  <thead>\n",
       "    <tr style=\"text-align: right;\">\n",
       "      <th></th>\n",
       "      <th>Name of subject</th>\n",
       "      <th>no. of students appeared</th>\n",
       "      <th>No of students passed</th>\n",
       "      <th>Pass Percentage</th>\n",
       "    </tr>\n",
       "  </thead>\n",
       "  <tbody>\n",
       "    <tr>\n",
       "      <th>0</th>\n",
       "      <td>sub1</td>\n",
       "      <td>212</td>\n",
       "      <td>189</td>\n",
       "      <td>89.150943</td>\n",
       "    </tr>\n",
       "    <tr>\n",
       "      <th>1</th>\n",
       "      <td>sub2</td>\n",
       "      <td>210</td>\n",
       "      <td>173</td>\n",
       "      <td>82.380952</td>\n",
       "    </tr>\n",
       "    <tr>\n",
       "      <th>2</th>\n",
       "      <td>sub3</td>\n",
       "      <td>211</td>\n",
       "      <td>191</td>\n",
       "      <td>90.521327</td>\n",
       "    </tr>\n",
       "    <tr>\n",
       "      <th>3</th>\n",
       "      <td>sub4</td>\n",
       "      <td>210</td>\n",
       "      <td>181</td>\n",
       "      <td>86.190476</td>\n",
       "    </tr>\n",
       "    <tr>\n",
       "      <th>4</th>\n",
       "      <td>sub5</td>\n",
       "      <td>210</td>\n",
       "      <td>191</td>\n",
       "      <td>90.952381</td>\n",
       "    </tr>\n",
       "  </tbody>\n",
       "</table>\n",
       "</div>"
      ],
      "text/plain": [
       "  Name of subject  no. of students appeared  No of students passed  \\\n",
       "0            sub1                       212                    189   \n",
       "1            sub2                       210                    173   \n",
       "2            sub3                       211                    191   \n",
       "3            sub4                       210                    181   \n",
       "4            sub5                       210                    191   \n",
       "\n",
       "   Pass Percentage  \n",
       "0        89.150943  \n",
       "1        82.380952  \n",
       "2        90.521327  \n",
       "3        86.190476  \n",
       "4        90.952381  "
      ]
     },
     "execution_count": 78,
     "metadata": {},
     "output_type": "execute_result"
    }
   ],
   "source": [
    "ar1=np.array(df['[OE+TH]'])\n",
    "ar2=np.array(df['[OE+TH].1'])\n",
    "ar3=np.array(df['[OE+TH].2'])\n",
    "ar4=np.array(df['[OE+TH].3'])\n",
    "ar5=np.array(df['[OE+TH].4'])\n",
    "br1=np.array(df['Grd'])\n",
    "br2=np.array(df['Grd.1'])\n",
    "br3=np.array(df['Grd.2'])\n",
    "br4=np.array(df['Grd.3'])\n",
    "br5=np.array(df['Grd.4'])\n",
    "a1=[]\n",
    "a1.append(ar1[ar1!='AB'].size)\n",
    "a1.append(ar2[ar2!='AB'].size)\n",
    "a1.append(ar3[ar3!='AB'].size)\n",
    "a1.append(ar4[ar4!='AB'].size)\n",
    "a1.append(ar5[ar5!='AB'].size)\n",
    "a2=[]\n",
    "a2.append(br1[br1!='F'].size)\n",
    "a2.append(br2[br2!='F'].size)\n",
    "a2.append(br3[br3!='F'].size)\n",
    "a2.append(br4[br4!='F'].size)\n",
    "a2.append(br5[br5!='F'].size)\n",
    "   \n",
    "    \n",
    "df5=pd.DataFrame(columns=['Name of subject','no. of students appeared','No of students passed','Pass Percentage'])\n",
    "df5['Name of subject']=['sub1','sub2','sub3','sub4','sub5']\n",
    "df5['no. of students appeared']=a1\n",
    "df5['No of students passed']=a2\n",
    "df5['Pass Percentage']=(np.array(a2)/np.array(a1))*100\n",
    "df5"
   ]
  },
  {
   "cell_type": "code",
   "execution_count": 71,
   "metadata": {},
   "outputs": [
    {
     "data": {
      "text/html": [
       "<div>\n",
       "<style scoped>\n",
       "    .dataframe tbody tr th:only-of-type {\n",
       "        vertical-align: middle;\n",
       "    }\n",
       "\n",
       "    .dataframe tbody tr th {\n",
       "        vertical-align: top;\n",
       "    }\n",
       "\n",
       "    .dataframe thead th {\n",
       "        text-align: right;\n",
       "    }\n",
       "</style>\n",
       "<table border=\"1\" class=\"dataframe\">\n",
       "  <thead>\n",
       "    <tr style=\"text-align: right;\">\n",
       "      <th></th>\n",
       "      <th>[OE+TH].4</th>\n",
       "      <th>Crd.4</th>\n",
       "      <th>Grd.4</th>\n",
       "      <th>Pts.8</th>\n",
       "      <th>Pts.9</th>\n",
       "      <th>TW</th>\n",
       "      <th>PR</th>\n",
       "      <th>Crd.5</th>\n",
       "      <th>Grd.5</th>\n",
       "      <th>Pts.10</th>\n",
       "      <th>...</th>\n",
       "      <th>TW.1</th>\n",
       "      <th>PR.1</th>\n",
       "      <th>Crd.6</th>\n",
       "      <th>Grd.6</th>\n",
       "      <th>Pts.12</th>\n",
       "      <th>Pts.13</th>\n",
       "      <th>TW.2</th>\n",
       "      <th>PR.2</th>\n",
       "      <th>Crd.7</th>\n",
       "      <th>Grd.7</th>\n",
       "    </tr>\n",
       "  </thead>\n",
       "  <tbody>\n",
       "    <tr>\n",
       "      <th>0</th>\n",
       "      <td>62</td>\n",
       "      <td>4</td>\n",
       "      <td>A</td>\n",
       "      <td>8</td>\n",
       "      <td>32</td>\n",
       "      <td>19</td>\n",
       "      <td>33</td>\n",
       "      <td>1</td>\n",
       "      <td>A</td>\n",
       "      <td>8</td>\n",
       "      <td>...</td>\n",
       "      <td>20</td>\n",
       "      <td>10</td>\n",
       "      <td>2</td>\n",
       "      <td>F</td>\n",
       "      <td>0</td>\n",
       "      <td>0</td>\n",
       "      <td>20</td>\n",
       "      <td>29</td>\n",
       "      <td>1</td>\n",
       "      <td>A</td>\n",
       "    </tr>\n",
       "    <tr>\n",
       "      <th>1</th>\n",
       "      <td>60</td>\n",
       "      <td>4</td>\n",
       "      <td>A</td>\n",
       "      <td>8</td>\n",
       "      <td>32</td>\n",
       "      <td>20</td>\n",
       "      <td>34</td>\n",
       "      <td>1</td>\n",
       "      <td>A+</td>\n",
       "      <td>9</td>\n",
       "      <td>...</td>\n",
       "      <td>15</td>\n",
       "      <td>12</td>\n",
       "      <td>2</td>\n",
       "      <td>F</td>\n",
       "      <td>0</td>\n",
       "      <td>0</td>\n",
       "      <td>17</td>\n",
       "      <td>21</td>\n",
       "      <td>1</td>\n",
       "      <td>B</td>\n",
       "    </tr>\n",
       "    <tr>\n",
       "      <th>2</th>\n",
       "      <td>75</td>\n",
       "      <td>4</td>\n",
       "      <td>A+</td>\n",
       "      <td>9</td>\n",
       "      <td>36</td>\n",
       "      <td>22</td>\n",
       "      <td>42</td>\n",
       "      <td>1</td>\n",
       "      <td>O</td>\n",
       "      <td>10</td>\n",
       "      <td>...</td>\n",
       "      <td>23</td>\n",
       "      <td>43</td>\n",
       "      <td>2</td>\n",
       "      <td>O</td>\n",
       "      <td>10</td>\n",
       "      <td>20</td>\n",
       "      <td>21</td>\n",
       "      <td>32</td>\n",
       "      <td>1</td>\n",
       "      <td>A+</td>\n",
       "    </tr>\n",
       "    <tr>\n",
       "      <th>3</th>\n",
       "      <td>72</td>\n",
       "      <td>4</td>\n",
       "      <td>A+</td>\n",
       "      <td>9</td>\n",
       "      <td>36</td>\n",
       "      <td>17</td>\n",
       "      <td>34</td>\n",
       "      <td>1</td>\n",
       "      <td>A</td>\n",
       "      <td>8</td>\n",
       "      <td>...</td>\n",
       "      <td>20</td>\n",
       "      <td>43</td>\n",
       "      <td>2</td>\n",
       "      <td>O</td>\n",
       "      <td>10</td>\n",
       "      <td>20</td>\n",
       "      <td>15</td>\n",
       "      <td>21</td>\n",
       "      <td>1</td>\n",
       "      <td>C</td>\n",
       "    </tr>\n",
       "    <tr>\n",
       "      <th>4</th>\n",
       "      <td>70</td>\n",
       "      <td>4</td>\n",
       "      <td>A+</td>\n",
       "      <td>9</td>\n",
       "      <td>36</td>\n",
       "      <td>17</td>\n",
       "      <td>33</td>\n",
       "      <td>1</td>\n",
       "      <td>A</td>\n",
       "      <td>8</td>\n",
       "      <td>...</td>\n",
       "      <td>16</td>\n",
       "      <td>32</td>\n",
       "      <td>2</td>\n",
       "      <td>A</td>\n",
       "      <td>8</td>\n",
       "      <td>16</td>\n",
       "      <td>17</td>\n",
       "      <td>35</td>\n",
       "      <td>1</td>\n",
       "      <td>A</td>\n",
       "    </tr>\n",
       "  </tbody>\n",
       "</table>\n",
       "<p>5 rows × 21 columns</p>\n",
       "</div>"
      ],
      "text/plain": [
       "  [OE+TH].4  Crd.4 Grd.4  Pts.8  Pts.9  TW  PR  Crd.5 Grd.5  Pts.10  ...  \\\n",
       "0        62      4     A      8     32  19  33      1     A       8  ...   \n",
       "1        60      4     A      8     32  20  34      1    A+       9  ...   \n",
       "2        75      4    A+      9     36  22  42      1     O      10  ...   \n",
       "3        72      4    A+      9     36  17  34      1     A       8  ...   \n",
       "4        70      4    A+      9     36  17  33      1     A       8  ...   \n",
       "\n",
       "   TW.1  PR.1 Crd.6  Grd.6 Pts.12  Pts.13  TW.2  PR.2 Crd.7  Grd.7  \n",
       "0    20    10     2      F      0       0    20    29     1      A  \n",
       "1    15    12     2      F      0       0    17    21     1      B  \n",
       "2    23    43     2      O     10      20    21    32     1     A+  \n",
       "3    20    43     2      O     10      20    15    21     1      C  \n",
       "4    16    32     2      A      8      16    17    35     1      A  \n",
       "\n",
       "[5 rows x 21 columns]"
      ]
     },
     "execution_count": 71,
     "metadata": {},
     "output_type": "execute_result"
    }
   ],
   "source": [
    "df.iloc[:5,-31:-10]"
   ]
  },
  {
   "cell_type": "code",
   "execution_count": null,
   "metadata": {},
   "outputs": [],
   "source": []
  }
 ],
 "metadata": {
  "kernelspec": {
   "display_name": "Python 3",
   "language": "python",
   "name": "python3"
  },
  "language_info": {
   "codemirror_mode": {
    "name": "ipython",
    "version": 3
   },
   "file_extension": ".py",
   "mimetype": "text/x-python",
   "name": "python",
   "nbconvert_exporter": "python",
   "pygments_lexer": "ipython3",
   "version": "3.7.3"
  }
 },
 "nbformat": 4,
 "nbformat_minor": 2
}
