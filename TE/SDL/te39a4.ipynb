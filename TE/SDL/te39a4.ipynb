{
 "cells": [
  {
   "cell_type": "code",
   "execution_count": 39,
   "metadata": {},
   "outputs": [],
   "source": [
    "\n",
    "s=open('Student.txt','r').read().split()\n",
    "sw=open('stopwords.txt','r').read().split()\n",
    "sy=open('symbols.txt','r').read().split()\n",
    "t=open('Teacher.txt','r').read().split()\n",
    "\n"
   ]
  },
  {
   "cell_type": "code",
   "execution_count": 38,
   "metadata": {},
   "outputs": [
    {
     "name": "stdout",
     "output_type": "stream",
     "text": [
      "Pass Percentage of student is : 38.15789473684211\n"
     ]
    }
   ],
   "source": [
    "def clean_(x):\n",
    "    li=[]    \n",
    "    for val in x:\n",
    "        if val.lower() not in sw:\n",
    "            #li.append(val)\n",
    "            w=list(val)\n",
    "            for val1 in w:\n",
    "                if val1 in sy:\n",
    "                    w.remove(val1)\n",
    "            #x.remove(val)\n",
    "            li.append(''.join(w))\n",
    "    return li        \n",
    "\n",
    "teach=set(clean_(t))\n",
    "stud=set(clean_(s))\n",
    "\n",
    "inter=teach.intersection(stud)\n",
    "print('Pass Percentage of student is :',(len(inter)/len(teach))*100)\n"
   ]
  },
  {
   "cell_type": "code",
   "execution_count": null,
   "metadata": {},
   "outputs": [],
   "source": []
  },
  {
   "cell_type": "code",
   "execution_count": null,
   "metadata": {},
   "outputs": [],
   "source": []
  }
 ],
 "metadata": {
  "kernelspec": {
   "display_name": "Python 3",
   "language": "python",
   "name": "python3"
  },
  "language_info": {
   "codemirror_mode": {
    "name": "ipython",
    "version": 3
   },
   "file_extension": ".py",
   "mimetype": "text/x-python",
   "name": "python",
   "nbconvert_exporter": "python",
   "pygments_lexer": "ipython3",
   "version": "3.7.3"
  }
 },
 "nbformat": 4,
 "nbformat_minor": 2
}
