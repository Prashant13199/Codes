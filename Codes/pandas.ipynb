{
 "cells": [
  {
   "cell_type": "code",
   "execution_count": 122,
   "metadata": {},
   "outputs": [],
   "source": [
    "import pandas as pd"
   ]
  },
  {
   "cell_type": "code",
   "execution_count": 123,
   "metadata": {},
   "outputs": [],
   "source": [
    "df = pd.read_csv (r'new12.csv')"
   ]
  },
  {
   "cell_type": "code",
   "execution_count": 124,
   "metadata": {},
   "outputs": [],
   "source": [
    "# names = df.iloc[:,[6]]\n",
    "# df[\"newname\"] = \"\"\n",
    "# df['title'] = \"\"\n",
    "\n",
    "# df.head()"
   ]
  },
  {
   "cell_type": "code",
   "execution_count": 125,
   "metadata": {},
   "outputs": [],
   "source": [
    "#names = [\"Hon’ble Mr. Justice Munishwar Nath Bhandari\",\"Hon’ble Mr. Justice Sanjay Yadav\"]\n",
    "df[\"Name\"].fillna(\"\", inplace = True)"
   ]
  },
  {
   "cell_type": "code",
   "execution_count": 126,
   "metadata": {},
   "outputs": [],
   "source": [
    "lst = [\n",
    "       \"HONOURABLE SRI JUSTICE\",\n",
    "       \"HON'BLE THE CHIEF JUSTICE\",\n",
    "    \"Former Acting Chief Justice\",\n",
    "    \"HON'BLE SRI JUSTICE\",\n",
    "    \"Hon'ble Chief\",\n",
    "        \"Hon’ble Mr. Justice\",\n",
    "    \"Hon'ble The Chief\",\n",
    "    \"Hon’ble Ms. Justice\",\n",
    "    \"HON'BLE SHRI JUSTICE\",\n",
    "    \"HON'BLE SMT JUSTICE\",\n",
    "    \"Mr. Justice Hon'Ble\",\n",
    "    \"Hon’ble Mrs. Chief\",\n",
    "       \"HON'BLE MR. JUSTICE\",\n",
    "    \"Hon’ble Chief Justice\",\n",
    "       \"The Hon'ble Justice\",\n",
    "    \"HON'BLE SHRI JUSTICE\",\n",
    "           \"Hon'ble Mr.\",\n",
    "               \"Hon'ble Mr\",\n",
    "       \"Hon’ble Shri\",\n",
    "    \"Hon'ble Thiru.\",\n",
    "    \"Hon'ble Tmt.\",\n",
    "    \"Hon'ble RMT.\",\n",
    "    \"Justice Hon’ble\",\n",
    "       \"Ms. Justice\",\n",
    "    \"Hon’ble Mr. Justice\",\n",
    "       \"Hon’ble Mrs. Justice\",\n",
    "       \"Hon’ble Ms. Justice\",\n",
    "       \"Hon’ble Dr. Justice\",\n",
    "    \"The Hon’ble Justice\",\n",
    "    \"CHIEF JUSTICE\",\n",
    "       \"Hon’ble Mrs.\",\n",
    "       \"Hon’ble Dr.\",\n",
    "    \"Mr. Justice Hon'Ble\",\n",
    "\n",
    "       \"Hon’ble Sir\",\n",
    "       \"Hon'ble\",\n",
    "       \n",
    "    \"Justice Hon’ble\",\n",
    "       \n",
    "       \"Sri Justice\",\n",
    "       \"Ms. Justice\",\n",
    "       \"Mr. Justice\",\n",
    "       \n",
    "       \n",
    "       \n",
    "       \"The  Justice\",\n",
    "       \n",
    "       \"The  Justice\",\n",
    "    \"Justice Dr.\",\n",
    "       \n",
    "       \n",
    "       \"Justice Mr.\",\n",
    "       \"Chief Justice\",\n",
    "       \n",
    "       \"Justice\",\n",
    "       \"HONOURABLE THE\",\n",
    "    \"Sir\",\n",
    "    \"Dr.\",\"SIR\",\"MR.\",\"Mr.\",\"Smt.\",\"Hon'ble Former Mr.\",\"Former Acting Chief Justice Mr.\",\"Shri\",\"Mrs\",\"Mrs.\"\n",
    "    \"Justice Hon’ble Mr\",\"Justice Hon’ble (L)\",\"Hon'ble Shri\",\"Hon'ble Smt.\",\"Justice Hon’ble\",\"Justice Hon’ble Mr.\",\n",
    "    \"Hon'ble Mrs.\",\"Hon'ble Miss\",\n",
    "      \n",
    "      ]\n",
    "\n"
   ]
  },
  {
   "cell_type": "code",
   "execution_count": 127,
   "metadata": {},
   "outputs": [],
   "source": [
    "def our_function(name1):\n",
    "    for title in lst:\n",
    "        name1 = name1.replace(u'\\xa0', u' ')\n",
    "        name1 = name1.replace(title,\"\")\n",
    "    return name1\n",
    "\n",
    "def our_function2(name1):\n",
    "    for title in lst:\n",
    "        name1 = name1.replace(u'\\xa0', u' ')\n",
    "        if title in name1:            \n",
    "            return title\n",
    "\n",
    "        \n",
    "    \n",
    "df['newname1'] = df['Name'].apply(our_function)\n",
    "df['title1'] = df['Name'].apply(our_function2)\n",
    "# df.head(10)\n",
    "# mid = df['title1']\n",
    "# df.drop(labels=['title1'], axis=1, inplace = True)\n",
    "# df.insert(7, 'title1', mid)\n",
    "# mid = df['newname1']\n",
    "# df.drop(labels=['newname1'], axis=1, inplace = True)\n",
    "# df.insert(8, 'newname1', mid)\n",
    "\n",
    "\n",
    "df.to_csv(\"final.csv\")"
   ]
  },
  {
   "cell_type": "code",
   "execution_count": null,
   "metadata": {},
   "outputs": [],
   "source": [
    "\n",
    "        \n",
    "    \n"
   ]
  },
  {
   "cell_type": "code",
   "execution_count": null,
   "metadata": {},
   "outputs": [],
   "source": []
  },
  {
   "cell_type": "code",
   "execution_count": null,
   "metadata": {},
   "outputs": [],
   "source": []
  }
 ],
 "metadata": {
  "kernelspec": {
   "display_name": "Python 3",
   "language": "python",
   "name": "python3"
  },
  "language_info": {
   "codemirror_mode": {
    "name": "ipython",
    "version": 3
   },
   "file_extension": ".py",
   "mimetype": "text/x-python",
   "name": "python",
   "nbconvert_exporter": "python",
   "pygments_lexer": "ipython3",
   "version": "3.8.5"
  }
 },
 "nbformat": 4,
 "nbformat_minor": 4
}
